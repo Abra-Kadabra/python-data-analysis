{
 "cells": [
  {
   "cell_type": "code",
   "execution_count": 1,
   "id": "9d594175",
   "metadata": {},
   "outputs": [],
   "source": [
    "import pandas as pd"
   ]
  },
  {
   "cell_type": "code",
   "execution_count": 2,
   "id": "d438206c",
   "metadata": {},
   "outputs": [],
   "source": [
    "user = pd.read_csv('datasets/sirius/user_1.csv')"
   ]
  },
  {
   "cell_type": "code",
   "execution_count": 3,
   "id": "ef9d5731",
   "metadata": {},
   "outputs": [],
   "source": [
    "user_session = pd.read_csv('datasets/sirius/user_session.csv')"
   ]
  },
  {
   "cell_type": "markdown",
   "id": "c33d42c2",
   "metadata": {},
   "source": [
    "## Задача 1"
   ]
  },
  {
   "cell_type": "markdown",
   "id": "613f7ffa",
   "metadata": {},
   "source": [
    "Посчитайте долю пользователей мужского пола в таблице `user`.\n",
    "\n",
    "Ответ округлите до $2$-х знаков после запятой.\n",
    "\n",
    "**Рекомендации по решению**\n",
    "\n",
    "Для подсчёта доли объектов, удовлетворяющих заданному условию, удобно использовать функцию `mean`, вызвав её от колонки-фильтра со значениями булевого типа. В данном случае каждое знаечние `True` будет приведено к $1$, а каждое значение `False` — к $0$. Усреднение этих значений как раз и даст долю объектов, удволетворяющих заданному условию."
   ]
  },
  {
   "cell_type": "code",
   "execution_count": 4,
   "id": "2760c4f2-515c-4c9b-a81c-fc664f066d53",
   "metadata": {},
   "outputs": [
    {
     "data": {
      "text/plain": [
       "0.425"
      ]
     },
     "execution_count": 4,
     "metadata": {},
     "output_type": "execute_result"
    }
   ],
   "source": [
    "(user.gender.value_counts()['М'] / len(user))"
   ]
  },
  {
   "cell_type": "markdown",
   "id": "a0d3b116",
   "metadata": {},
   "source": [
    "## Задача 2"
   ]
  },
  {
   "cell_type": "markdown",
   "id": "b421674f",
   "metadata": {},
   "source": [
    "Посчитайте долю пользователей из Краснодарского края, которые заходили на платформу в сентябре $2023$-го года.\n",
    "\n",
    "Ответ округлите до $2$-х знаков после запятой."
   ]
  },
  {
   "cell_type": "code",
   "execution_count": 5,
   "id": "4ac628b1-4744-488b-88ba-dc56208c9ff6",
   "metadata": {},
   "outputs": [
    {
     "data": {
      "text/plain": [
       "0.41007194244604317"
      ]
     },
     "execution_count": 5,
     "metadata": {},
     "output_type": "execute_result"
    }
   ],
   "source": [
    "kras = user[(user['region'] == 'Краснодарский край')]['id'].count()\n",
    "kras_2309 = user[(user['region'] == 'Краснодарский край') & (user['last_visited'].str.startswith('2023-09'))]['id'].count()\n",
    "kras_2309 / kras"
   ]
  },
  {
   "cell_type": "markdown",
   "id": "9ede3010",
   "metadata": {},
   "source": [
    "## Задача 3"
   ]
  },
  {
   "cell_type": "markdown",
   "id": "b4137474",
   "metadata": {},
   "source": [
    "По таблице `user_session` рассчитайте долю активных пользователей в мае $2023$-го года относительно общего числа пользователей платформы из таблицы `user`.\n",
    "\n",
    "Активными считайте пользователей, у которых в этот месяц была хотя бы одна сессия.\n",
    "\n",
    "Ответ округлите до $2$-х знаков после запятой."
   ]
  },
  {
   "cell_type": "code",
   "execution_count": 6,
   "id": "4f05b268-33b1-44ef-b03f-117493b3d4b1",
   "metadata": {},
   "outputs": [
    {
     "data": {
      "text/plain": [
       "0.598"
      ]
     },
     "execution_count": 6,
     "metadata": {},
     "output_type": "execute_result"
    }
   ],
   "source": [
    "users_count = user['id'].count()\n",
    "active_sessions_0523 = user_session[user_session.date.str.startswith('2023-05')]\n",
    "active_users_0523 = active_sessions_0523.groupby('user_id').agg({'user_id': pd.Series.nunique}).count()['user_id']\n",
    "active_users_0523 / users_count"
   ]
  },
  {
   "cell_type": "markdown",
   "id": "a8e18d2e",
   "metadata": {},
   "source": [
    "## Задача 4"
   ]
  },
  {
   "cell_type": "markdown",
   "id": "99d1c5d9",
   "metadata": {},
   "source": [
    "Дадим другое определение активным пользователям. Будем считать активными в конкретном месяце тех, кто посмотрел хотя бы $60$ минут видеоконтента в этом месяце.\n",
    "\n",
    "Рассчитайте долю активных пользователей среди тех, у кого была хотя бы одна сессия в марте $2023$-го года.\n",
    "\n",
    "Ответ округлите до $2$-х знаков после запятой."
   ]
  },
  {
   "cell_type": "code",
   "execution_count": 7,
   "id": "57c541f4-b12c-48be-8f3e-e4d8b9babf3d",
   "metadata": {},
   "outputs": [
    {
     "data": {
      "text/html": [
       "<div>\n",
       "<style scoped>\n",
       "    .dataframe tbody tr th:only-of-type {\n",
       "        vertical-align: middle;\n",
       "    }\n",
       "\n",
       "    .dataframe tbody tr th {\n",
       "        vertical-align: top;\n",
       "    }\n",
       "\n",
       "    .dataframe thead th {\n",
       "        text-align: right;\n",
       "    }\n",
       "</style>\n",
       "<table border=\"1\" class=\"dataframe\">\n",
       "  <thead>\n",
       "    <tr style=\"text-align: right;\">\n",
       "      <th></th>\n",
       "      <th>session_id</th>\n",
       "      <th>user_id</th>\n",
       "      <th>date</th>\n",
       "      <th>time_watched</th>\n",
       "    </tr>\n",
       "  </thead>\n",
       "  <tbody>\n",
       "    <tr>\n",
       "      <th>0</th>\n",
       "      <td>1</td>\n",
       "      <td>558</td>\n",
       "      <td>2023-01-23 00:52:14</td>\n",
       "      <td>10</td>\n",
       "    </tr>\n",
       "    <tr>\n",
       "      <th>1</th>\n",
       "      <td>2</td>\n",
       "      <td>435</td>\n",
       "      <td>2023-01-06 20:59:45</td>\n",
       "      <td>51</td>\n",
       "    </tr>\n",
       "    <tr>\n",
       "      <th>2</th>\n",
       "      <td>3</td>\n",
       "      <td>783</td>\n",
       "      <td>2023-01-27 19:24:25</td>\n",
       "      <td>2</td>\n",
       "    </tr>\n",
       "    <tr>\n",
       "      <th>3</th>\n",
       "      <td>4</td>\n",
       "      <td>575</td>\n",
       "      <td>2023-01-23 21:55:54</td>\n",
       "      <td>29</td>\n",
       "    </tr>\n",
       "    <tr>\n",
       "      <th>4</th>\n",
       "      <td>5</td>\n",
       "      <td>598</td>\n",
       "      <td>2023-01-22 15:06:09</td>\n",
       "      <td>5</td>\n",
       "    </tr>\n",
       "  </tbody>\n",
       "</table>\n",
       "</div>"
      ],
      "text/plain": [
       "   session_id  user_id                 date  time_watched\n",
       "0           1      558  2023-01-23 00:52:14            10\n",
       "1           2      435  2023-01-06 20:59:45            51\n",
       "2           3      783  2023-01-27 19:24:25             2\n",
       "3           4      575  2023-01-23 21:55:54            29\n",
       "4           5      598  2023-01-22 15:06:09             5"
      ]
     },
     "execution_count": 7,
     "metadata": {},
     "output_type": "execute_result"
    }
   ],
   "source": [
    "user_session.head()"
   ]
  },
  {
   "cell_type": "code",
   "execution_count": 8,
   "id": "7d26dc9d-76d3-4816-8865-67a82973c6aa",
   "metadata": {},
   "outputs": [
    {
     "data": {
      "text/plain": [
       "0.9192872117400419"
      ]
     },
     "execution_count": 8,
     "metadata": {},
     "output_type": "execute_result"
    }
   ],
   "source": [
    "sessions_0323 = user_session[user_session.date.str.startswith('2023-03')]\n",
    "users_0323 = sessions_0323.groupby('user_id').agg({'user_id': pd.Series.nunique}).count()['user_id']\n",
    "userstime_0323 = sessions_0323.groupby('user_id').agg({'time_watched': 'sum'})\n",
    "active_users = userstime_0323[userstime_0323.time_watched >= 60].count()['time_watched']\n",
    "active_users / users_0323"
   ]
  },
  {
   "cell_type": "markdown",
   "id": "d09e49c0",
   "metadata": {},
   "source": [
    "# Задачи 5-9"
   ]
  },
  {
   "cell_type": "markdown",
   "id": "5d4bf7dd",
   "metadata": {},
   "source": [
    "Рассчитайте, сколько в среднем смотрят видеоконтента пользователи за один день активности. Днём активности называем день, в который у пользователя была сессия."
   ]
  },
  {
   "cell_type": "markdown",
   "id": "ffe1f121",
   "metadata": {},
   "source": [
    "## Задача 5"
   ]
  },
  {
   "cell_type": "markdown",
   "id": "9f6ca13f",
   "metadata": {},
   "source": [
    "Для этого сначала вычислите суммарное число дней, когда пользователи смотрели видеоконтент.\n",
    "\n",
    "Обратите внимание, что хараткеристику можно посчитать двумя способами. Рассчитатйте её как число уникальных пар вида (пользователь; день, когда у него была сессия)."
   ]
  },
  {
   "cell_type": "code",
   "execution_count": 9,
   "id": "fab258dd-c870-4706-97a2-af637576094a",
   "metadata": {},
   "outputs": [],
   "source": [
    "sessions = user_session.copy()\n",
    "sessions.date = pd.to_datetime(sessions.date).dt.date"
   ]
  },
  {
   "cell_type": "code",
   "execution_count": 10,
   "id": "32f6f628-91e9-4cf1-8a04-e027ffde9997",
   "metadata": {},
   "outputs": [
    {
     "data": {
      "text/plain": [
       "44932"
      ]
     },
     "execution_count": 10,
     "metadata": {},
     "output_type": "execute_result"
    }
   ],
   "source": [
    "active_days_per_user = sessions.groupby('user_id').agg({'date': pd.Series.nunique})\n",
    "total_active_days = active_days_per_user.date.sum()\n",
    "total_active_days"
   ]
  },
  {
   "cell_type": "markdown",
   "id": "5e986c53",
   "metadata": {},
   "source": [
    "## Задача 6"
   ]
  },
  {
   "cell_type": "markdown",
   "id": "4ec007d0",
   "metadata": {},
   "source": [
    "Теперь вычислите суммарное время просмотра видеоконтента пользователями."
   ]
  },
  {
   "cell_type": "code",
   "execution_count": 11,
   "id": "87f5603d-c290-4ad6-83a4-1b9cea55fb6c",
   "metadata": {},
   "outputs": [
    {
     "data": {
      "text/plain": [
       "1607552"
      ]
     },
     "execution_count": 11,
     "metadata": {},
     "output_type": "execute_result"
    }
   ],
   "source": [
    "total_time_watched = sessions.time_watched.sum()\n",
    "total_time_watched"
   ]
  },
  {
   "cell_type": "markdown",
   "id": "1fca81c6",
   "metadata": {},
   "source": [
    "## Задача 7"
   ]
  },
  {
   "cell_type": "markdown",
   "id": "62709645",
   "metadata": {},
   "source": [
    "Вычислите среднее количество просмотренного пользователями видеоконтента за день активности, как отношение суммарного времени просмотра к суммарному числу дней просмотра.\n",
    "\n",
    "Ответ округлите до $2$-х знаков после запятой."
   ]
  },
  {
   "cell_type": "code",
   "execution_count": 12,
   "id": "f8934b1e-2887-4f8e-acea-4284fa405ed1",
   "metadata": {},
   "outputs": [
    {
     "data": {
      "text/plain": [
       "35.77744146710585"
      ]
     },
     "execution_count": 12,
     "metadata": {},
     "output_type": "execute_result"
    }
   ],
   "source": [
    "total_time_watched / total_active_days"
   ]
  },
  {
   "cell_type": "markdown",
   "id": "1e1834e4",
   "metadata": {},
   "source": [
    "## Задача 8"
   ]
  },
  {
   "cell_type": "markdown",
   "id": "23cd1b77",
   "metadata": {},
   "source": [
    "Обратите внимание, что есть альтернативный способ рассчитать, сколько в среднем видеоконтента смотрят пользователи за один день активности.\n",
    "\n",
    "Во-первых, рассчитайте для каждого из пользователей среднее количество просмотренного им видеоконтента. Принцип вычисления метрики для конкретного пользователя такой же, как был для всех пользователей вместе: нужно взять суммарное время просмотра контента и разделить на суммарное количество уникальных дней активности.\n",
    "\n",
    "В качестве ответа укажите среднее количество просмотренного видеоконтента пользователем с `id`, равным $738$. Ответ округлите до $2$-х знаков после запятой.\n",
    "\n",
    "**Рекомендации по решению**\n",
    "\n",
    "Для того чтобы вычислить среднее количество видеоконтента, просмотренного конкретным пользователем, удобно провести группировку по пользователям и произвести агрегацию по двум колонкам отдельно: по колонке `time_watched`, просуммировав значения в ней , и по колонке `date`, посчитав количество уникальных дней активности для каждого из пользователей.\n",
    "\n",
    "Для того чтобы произвести агрегацию по колонке `date`, удобно воспользоваться лямбда-функцией, которая сначала произведёт округление моментов времени из колонке `date` _вниз_ до дней, а потом посчитает количество полученных уникальных дней."
   ]
  },
  {
   "cell_type": "code",
   "execution_count": 17,
   "id": "9f8660ac-6863-44f3-9404-3c2aec0b7f84",
   "metadata": {},
   "outputs": [
    {
     "data": {
      "text/html": [
       "<div>\n",
       "<style scoped>\n",
       "    .dataframe tbody tr th:only-of-type {\n",
       "        vertical-align: middle;\n",
       "    }\n",
       "\n",
       "    .dataframe tbody tr th {\n",
       "        vertical-align: top;\n",
       "    }\n",
       "\n",
       "    .dataframe thead th {\n",
       "        text-align: right;\n",
       "    }\n",
       "</style>\n",
       "<table border=\"1\" class=\"dataframe\">\n",
       "  <thead>\n",
       "    <tr style=\"text-align: right;\">\n",
       "      <th></th>\n",
       "      <th>session_id</th>\n",
       "      <th>user_id</th>\n",
       "      <th>date</th>\n",
       "      <th>time_watched</th>\n",
       "    </tr>\n",
       "  </thead>\n",
       "  <tbody>\n",
       "    <tr>\n",
       "      <th>0</th>\n",
       "      <td>1</td>\n",
       "      <td>558</td>\n",
       "      <td>2023-01-23</td>\n",
       "      <td>10</td>\n",
       "    </tr>\n",
       "    <tr>\n",
       "      <th>1</th>\n",
       "      <td>2</td>\n",
       "      <td>435</td>\n",
       "      <td>2023-01-06</td>\n",
       "      <td>51</td>\n",
       "    </tr>\n",
       "    <tr>\n",
       "      <th>2</th>\n",
       "      <td>3</td>\n",
       "      <td>783</td>\n",
       "      <td>2023-01-27</td>\n",
       "      <td>2</td>\n",
       "    </tr>\n",
       "  </tbody>\n",
       "</table>\n",
       "</div>"
      ],
      "text/plain": [
       "   session_id  user_id        date  time_watched\n",
       "0           1      558  2023-01-23            10\n",
       "1           2      435  2023-01-06            51\n",
       "2           3      783  2023-01-27             2"
      ]
     },
     "execution_count": 17,
     "metadata": {},
     "output_type": "execute_result"
    }
   ],
   "source": [
    "sessions.head(3)"
   ]
  },
  {
   "cell_type": "code",
   "execution_count": 30,
   "id": "f8268bdd-e586-422c-bf6f-7c6f95b9846c",
   "metadata": {},
   "outputs": [
    {
     "data": {
      "text/plain": [
       "40.42424242424242"
      ]
     },
     "execution_count": 30,
     "metadata": {},
     "output_type": "execute_result"
    }
   ],
   "source": [
    "time_per_user = sessions.groupby('user_id').agg({'time_watched': 'sum'})\n",
    "days_per_user = sessions.groupby('user_id').agg({'date': pd.Series.nunique})\n",
    "time_per_user.loc[738]['time_watched'] / days_per_user.loc[738]['date']"
   ]
  },
  {
   "cell_type": "markdown",
   "id": "419edbe1",
   "metadata": {},
   "source": [
    "## Задача 9"
   ]
  },
  {
   "cell_type": "markdown",
   "id": "9f80964b",
   "metadata": {},
   "source": [
    "Для того чтобы вычислить среднее время просмотра видеоконтента за день активности, посчитайте среднее арифметическое данной характеристики по всем пользователям. Для этого используйте данные, полученные в предыдущем упражнении.\n",
    "\n",
    "Ответ округлите до $2$-х знаков после запятой."
   ]
  },
  {
   "cell_type": "code",
   "execution_count": 49,
   "id": "cbff331f-4eea-4de0-a858-910669328047",
   "metadata": {},
   "outputs": [
    {
     "data": {
      "text/plain": [
       "34.793012875603004"
      ]
     },
     "execution_count": 49,
     "metadata": {},
     "output_type": "execute_result"
    }
   ],
   "source": [
    "time_days_watched = time_per_user.join(days_per_user).rename(columns={'time_watched': 'total_time', 'date': 'total_days'})\n",
    "time_days_watched['mean_time'] = time_days_watched.total_time / time_days_watched.total_days\n",
    "time_days_watched.mean_time.sum() / len(time_days_watched)"
   ]
  },
  {
   "cell_type": "code",
   "execution_count": null,
   "id": "1d5d499e-933f-4cb6-bedd-e5a22573bfce",
   "metadata": {},
   "outputs": [],
   "source": []
  }
 ],
 "metadata": {
  "kernelspec": {
   "display_name": "Python 3 (ipykernel)",
   "language": "python",
   "name": "python3"
  },
  "language_info": {
   "codemirror_mode": {
    "name": "ipython",
    "version": 3
   },
   "file_extension": ".py",
   "mimetype": "text/x-python",
   "name": "python",
   "nbconvert_exporter": "python",
   "pygments_lexer": "ipython3",
   "version": "3.11.7"
  }
 },
 "nbformat": 4,
 "nbformat_minor": 5
}
