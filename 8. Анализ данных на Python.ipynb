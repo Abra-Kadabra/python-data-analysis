{
 "cells": [
  {
   "cell_type": "code",
   "execution_count": 1,
   "id": "4d5b85fd",
   "metadata": {},
   "outputs": [],
   "source": [
    "import pandas as pd"
   ]
  },
  {
   "cell_type": "code",
   "execution_count": 2,
   "id": "1ea6aa7c",
   "metadata": {},
   "outputs": [],
   "source": [
    "def custom_compare(x, y):\n",
    "    if str(x) != str(y):\n",
    "        raise RuntimeError(f'Ожидаемое значение: {y}. Фактическое: {x}')"
   ]
  },
  {
   "cell_type": "markdown",
   "id": "1e9486f6",
   "metadata": {},
   "source": [
    "# Предобработка данных"
   ]
  },
  {
   "cell_type": "code",
   "execution_count": 39,
   "id": "e2937d41",
   "metadata": {},
   "outputs": [],
   "source": [
    "def parse_user_action_solution(line):\n",
    "    \"\"\"\n",
    "    Принимает строку в обозначенном формате, а возвращает словарь.\n",
    "    Ключами в словаре являются строки 'id', 'action' и 'time',\n",
    "    а значениями — соответствующие ключам значения из обрабатываемой строки.\n",
    "    \n",
    "    Аргументы:\n",
    "        line: Строка, которую необходимо превратить в словарь.\n",
    "        \n",
    "    Возвращаемое значение:\n",
    "        Словарь в обозначенном формате.\n",
    "    \"\"\"\n",
    "    parsed = {}\n",
    "    for l in line[1:-1].split(', '):\n",
    "        name, value = l.replace(\"'\", \"\").split(': ')\n",
    "        if name == 'id':\n",
    "            value = int(value)\n",
    "        elif name == 'time':\n",
    "            value = pd.to_datetime(value)\n",
    "        parsed[name] = value\n",
    "    return parsed"
   ]
  },
  {
   "cell_type": "code",
   "execution_count": 40,
   "id": "b70ea4a2",
   "metadata": {},
   "outputs": [],
   "source": [
    "def parse_user_action_test():\n",
    "    example_1_line = \"('id': 7281910, 'action': 'click', 'time': '2023-01-01 12:23:54')\"\n",
    "    example_1_res = {\n",
    "        'id': 7281910,\n",
    "        'action': 'click',\n",
    "        'time': pd.Timestamp(year=2023, month=1, day=1, hour=12, minute=23, second=54),\n",
    "    }\n",
    "    \n",
    "    custom_compare(parse_user_action_solution(example_1_line), example_1_res)\n",
    "    \n",
    "    example_2_line = \"('id': 1, 'action': 'search', 'time': '1997-12-31 23:23:59')\"\n",
    "    example_2_res = {\n",
    "        'id': 1,\n",
    "        'action': 'search',\n",
    "        'time': pd.Timestamp(year=1997, month=12, day=31, hour=23, minute=23, second=59),\n",
    "    }\n",
    "    \n",
    "    custom_compare(parse_user_action_solution(example_2_line), example_2_res)\n",
    "    \n",
    "    print('Все тесты прошли успешно!')"
   ]
  },
  {
   "cell_type": "code",
   "execution_count": 41,
   "id": "9cc87fd3",
   "metadata": {},
   "outputs": [
    {
     "name": "stdout",
     "output_type": "stream",
     "text": [
      "Все тесты прошли успешно!\n"
     ]
    }
   ],
   "source": [
    "parse_user_action_test()"
   ]
  },
  {
   "cell_type": "markdown",
   "id": "f8d806b9",
   "metadata": {},
   "source": [
    "# Предобработка данных в pandas"
   ]
  },
  {
   "cell_type": "code",
   "execution_count": 51,
   "id": "66c6008b",
   "metadata": {},
   "outputs": [],
   "source": [
    "user_session = pd.read_csv('datasets/sirius/user_session_sample.csv')"
   ]
  },
  {
   "cell_type": "markdown",
   "id": "84e62448",
   "metadata": {},
   "source": [
    "## Задание 1"
   ]
  },
  {
   "cell_type": "markdown",
   "id": "bb2f2d07",
   "metadata": {},
   "source": [
    "Подсчитайте, сколько пропущенных значений содержится в каждой из колонок таблицы."
   ]
  },
  {
   "cell_type": "code",
   "execution_count": 52,
   "id": "9664b96c-be56-4787-bbe4-6182166cfdda",
   "metadata": {},
   "outputs": [
    {
     "data": {
      "text/plain": [
       "id                 0\n",
       "user_id        66371\n",
       "ip                 0\n",
       "action_time    13922\n",
       "action             0\n",
       "dtype: int64"
      ]
     },
     "execution_count": 52,
     "metadata": {},
     "output_type": "execute_result"
    }
   ],
   "source": [
    "user_session.isna().sum()"
   ]
  },
  {
   "cell_type": "markdown",
   "id": "2323ece1",
   "metadata": {},
   "source": [
    "## Задание 2"
   ]
  },
  {
   "cell_type": "markdown",
   "id": "5e9d6165",
   "metadata": {},
   "source": [
    "Известно, что значение в колонке «action_time» должно совпадать со значением `action_time`, которое хранится внутри значений характеристики «action».\n",
    "\n",
    "Воспользуйтесь реализованной ранее функцией `parse_user_action_solution`, чтобы восстановить на основе значений из колонки «action» отсутствующую информацию о моментах времени, когда пользователи совершали соответствующие действия.\n",
    "\n",
    "В качестве ответа укажите число пользовательских действий, которые были совершены в августе 2023-го года, рассчитанное по таблице с восстановленными данными."
   ]
  },
  {
   "cell_type": "code",
   "execution_count": 53,
   "id": "f665ccd6-592b-4277-b6c5-e3a869b991e0",
   "metadata": {},
   "outputs": [
    {
     "data": {
      "text/html": [
       "<div>\n",
       "<style scoped>\n",
       "    .dataframe tbody tr th:only-of-type {\n",
       "        vertical-align: middle;\n",
       "    }\n",
       "\n",
       "    .dataframe tbody tr th {\n",
       "        vertical-align: top;\n",
       "    }\n",
       "\n",
       "    .dataframe thead th {\n",
       "        text-align: right;\n",
       "    }\n",
       "</style>\n",
       "<table border=\"1\" class=\"dataframe\">\n",
       "  <thead>\n",
       "    <tr style=\"text-align: right;\">\n",
       "      <th></th>\n",
       "      <th>id</th>\n",
       "      <th>user_id</th>\n",
       "      <th>ip</th>\n",
       "      <th>action_time</th>\n",
       "      <th>action</th>\n",
       "    </tr>\n",
       "  </thead>\n",
       "  <tbody>\n",
       "    <tr>\n",
       "      <th>0</th>\n",
       "      <td>619</td>\n",
       "      <td>NaN</td>\n",
       "      <td>244.143.138.0</td>\n",
       "      <td>2021-01-20 18:36:32</td>\n",
       "      <td>('id': 234676, 'action': 'search', 'time': '20...</td>\n",
       "    </tr>\n",
       "    <tr>\n",
       "      <th>1</th>\n",
       "      <td>919428</td>\n",
       "      <td>30083.0</td>\n",
       "      <td>157.169.233.89</td>\n",
       "      <td>2023-12-10 04:13:50</td>\n",
       "      <td>('id': 541654, 'action': 'search', 'time': '20...</td>\n",
       "    </tr>\n",
       "    <tr>\n",
       "      <th>2</th>\n",
       "      <td>630539</td>\n",
       "      <td>NaN</td>\n",
       "      <td>160.111.52.224</td>\n",
       "      <td>2023-09-26 04:09:44</td>\n",
       "      <td>('id': 230556, 'action': 'click', 'time': '202...</td>\n",
       "    </tr>\n",
       "  </tbody>\n",
       "</table>\n",
       "</div>"
      ],
      "text/plain": [
       "       id  user_id              ip          action_time  \\\n",
       "0     619      NaN   244.143.138.0  2021-01-20 18:36:32   \n",
       "1  919428  30083.0  157.169.233.89  2023-12-10 04:13:50   \n",
       "2  630539      NaN  160.111.52.224  2023-09-26 04:09:44   \n",
       "\n",
       "                                              action  \n",
       "0  ('id': 234676, 'action': 'search', 'time': '20...  \n",
       "1  ('id': 541654, 'action': 'search', 'time': '20...  \n",
       "2  ('id': 230556, 'action': 'click', 'time': '202...  "
      ]
     },
     "execution_count": 53,
     "metadata": {},
     "output_type": "execute_result"
    }
   ],
   "source": [
    "user_session.head(3)"
   ]
  },
  {
   "cell_type": "code",
   "execution_count": 54,
   "id": "c99b75d1-8b3c-4345-bf11-5361ce63805a",
   "metadata": {},
   "outputs": [],
   "source": [
    "user_session.action_time = pd.to_datetime(user_session.action_time)\n",
    "user_session.action = user_session.action.apply(parse_user_action_solution)"
   ]
  },
  {
   "cell_type": "code",
   "execution_count": 55,
   "id": "9cb2dcec-deff-4e60-b165-b31bc38b33e9",
   "metadata": {},
   "outputs": [
    {
     "data": {
      "text/html": [
       "<div>\n",
       "<style scoped>\n",
       "    .dataframe tbody tr th:only-of-type {\n",
       "        vertical-align: middle;\n",
       "    }\n",
       "\n",
       "    .dataframe tbody tr th {\n",
       "        vertical-align: top;\n",
       "    }\n",
       "\n",
       "    .dataframe thead th {\n",
       "        text-align: right;\n",
       "    }\n",
       "</style>\n",
       "<table border=\"1\" class=\"dataframe\">\n",
       "  <thead>\n",
       "    <tr style=\"text-align: right;\">\n",
       "      <th></th>\n",
       "      <th>id</th>\n",
       "      <th>user_id</th>\n",
       "      <th>ip</th>\n",
       "      <th>action_time</th>\n",
       "      <th>action</th>\n",
       "    </tr>\n",
       "  </thead>\n",
       "  <tbody>\n",
       "    <tr>\n",
       "      <th>0</th>\n",
       "      <td>619</td>\n",
       "      <td>NaN</td>\n",
       "      <td>244.143.138.0</td>\n",
       "      <td>2021-01-20 18:36:32</td>\n",
       "      <td>{'id': 234676, 'action': 'search', 'time': 202...</td>\n",
       "    </tr>\n",
       "    <tr>\n",
       "      <th>1</th>\n",
       "      <td>919428</td>\n",
       "      <td>30083.0</td>\n",
       "      <td>157.169.233.89</td>\n",
       "      <td>2023-12-10 04:13:50</td>\n",
       "      <td>{'id': 541654, 'action': 'search', 'time': 202...</td>\n",
       "    </tr>\n",
       "    <tr>\n",
       "      <th>2</th>\n",
       "      <td>630539</td>\n",
       "      <td>NaN</td>\n",
       "      <td>160.111.52.224</td>\n",
       "      <td>2023-09-26 04:09:44</td>\n",
       "      <td>{'id': 230556, 'action': 'click', 'time': 2023...</td>\n",
       "    </tr>\n",
       "  </tbody>\n",
       "</table>\n",
       "</div>"
      ],
      "text/plain": [
       "       id  user_id              ip         action_time  \\\n",
       "0     619      NaN   244.143.138.0 2021-01-20 18:36:32   \n",
       "1  919428  30083.0  157.169.233.89 2023-12-10 04:13:50   \n",
       "2  630539      NaN  160.111.52.224 2023-09-26 04:09:44   \n",
       "\n",
       "                                              action  \n",
       "0  {'id': 234676, 'action': 'search', 'time': 202...  \n",
       "1  {'id': 541654, 'action': 'search', 'time': 202...  \n",
       "2  {'id': 230556, 'action': 'click', 'time': 2023...  "
      ]
     },
     "execution_count": 55,
     "metadata": {},
     "output_type": "execute_result"
    }
   ],
   "source": [
    "user_session.head(3)"
   ]
  },
  {
   "cell_type": "code",
   "execution_count": 56,
   "id": "b56338de-8582-4865-8bdb-6eb205e1ce5f",
   "metadata": {},
   "outputs": [
    {
     "data": {
      "text/plain": [
       "13922"
      ]
     },
     "execution_count": 56,
     "metadata": {},
     "output_type": "execute_result"
    }
   ],
   "source": [
    "user_session.action_time.isna().sum()"
   ]
  },
  {
   "cell_type": "code",
   "execution_count": 65,
   "id": "0b95632e-b892-41e7-a1cb-3609a16cfc8d",
   "metadata": {},
   "outputs": [
    {
     "data": {
      "text/plain": [
       "0"
      ]
     },
     "execution_count": 65,
     "metadata": {},
     "output_type": "execute_result"
    }
   ],
   "source": [
    "user_session.action_time = user_session.action.apply(lambda x: x['time'])\n",
    "user_session.action_time.isna().sum()"
   ]
  },
  {
   "cell_type": "code",
   "execution_count": 72,
   "id": "fbadeaf1-49c0-4e8d-b359-901fe1443127",
   "metadata": {},
   "outputs": [
    {
     "data": {
      "text/plain": [
       "8395"
      ]
     },
     "execution_count": 72,
     "metadata": {},
     "output_type": "execute_result"
    }
   ],
   "source": [
    "user_session[(user_session.action_time.dt.year == 2023) & (user_session.action_time.dt.month == 8)].count()['id']"
   ]
  },
  {
   "cell_type": "markdown",
   "id": "931f1b70",
   "metadata": {},
   "source": [
    "# Исследование данных"
   ]
  },
  {
   "cell_type": "markdown",
   "id": "ef87dc16",
   "metadata": {},
   "source": [
    "## Задание 1"
   ]
  },
  {
   "cell_type": "code",
   "execution_count": 73,
   "id": "59169a78",
   "metadata": {},
   "outputs": [],
   "source": [
    "def round_to_2(x):\n",
    "    \"\"\"\n",
    "    Принимает число и возвращает результат его округления\n",
    "    до 2 знаков после запятой.\n",
    "    \n",
    "    Аргументы:\n",
    "        x: Число.\n",
    "        \n",
    "    Возвращаемое значение:\n",
    "        Результат округления числа до 2 знаков после запятой.\n",
    "    \"\"\"\n",
    "    \n",
    "    return round(x, 2)"
   ]
  },
  {
   "cell_type": "code",
   "execution_count": 74,
   "id": "e6bc9bf2",
   "metadata": {},
   "outputs": [],
   "source": [
    "def get_sessions(action_times, max_delta=40 * 60):\n",
    "    \"\"\"\n",
    "    Разбивает список моментов времени, когда пользователь проявлял активность,\n",
    "    на пользовательские сессии. \n",
    "    \n",
    "    Аргументы:\n",
    "        action_times: Список моментов времени, когда пользователь проявлял активность.\n",
    "                      Гарантируется, что моменты времени упорядочены в порядке возрастания.\n",
    "           max_delta: Максимальное значение (в секундах) промежутка между двумя активностями пользователя,\n",
    "                      при котором они считаются относящимися к одной сессии.\n",
    "                      \n",
    "    Возвращаемое значение:\n",
    "        Список пользовательских сессий. Каждая сессия представляется упорядоченным по возрастанию\n",
    "        списком моментов времени для действий, которые были совершены в эту сессию.\n",
    "    \"\"\"\n",
    "    \n",
    "    sessions = []\n",
    "    cur_session = []\n",
    "    \n",
    "    prev_time = None\n",
    "    \n",
    "    for time in action_times:\n",
    "        if prev_time is None or (time - prev_time).total_seconds() > max_delta:\n",
    "            if len(cur_session) > 0:\n",
    "                sessions.append(cur_session)\n",
    "                \n",
    "            cur_session = [time]\n",
    "        else:\n",
    "            cur_session.append(time)\n",
    "            \n",
    "        prev_time = time\n",
    "        \n",
    "    sessions.append(cur_session)\n",
    "    \n",
    "    return sessions"
   ]
  },
  {
   "cell_type": "code",
   "execution_count": 127,
   "id": "744383df",
   "metadata": {},
   "outputs": [],
   "source": [
    "def get_avg_session_time(action_times):\n",
    "    \"\"\"\n",
    "    По списку моментов времени, когда пользователь проявлял активность,\n",
    "    вычисляет среднюю продолжительность его пользовательской сессии\n",
    "    с точки зрения времени.\n",
    "    \n",
    "    Аргументы:\n",
    "        action_times: Список моментов времени, когда пользователь проявлял активность.\n",
    "                      Гарантируется, что моменты времени упорядочены в порядке возрастания.\n",
    "                      \n",
    "    Возвращаемое значение:\n",
    "        Средняя продолжительность пользовательской сессии **в секундах**,\n",
    "        округлённая до $2$-х знаков после запятой.\n",
    "    \"\"\"\n",
    "    sesions_duration = []\n",
    "    for session in get_sessions(action_times):\n",
    "        if len(session) > 1:\n",
    "            sesions_duration.append((session[-1] - session[0]).total_seconds())\n",
    "    return round_to_2((sum(sesions_duration) / len(sesions_duration)) / 60) if sesions_duration else 0"
   ]
  },
  {
   "cell_type": "code",
   "execution_count": 128,
   "id": "b064b864",
   "metadata": {},
   "outputs": [],
   "source": [
    "def get_avg_session_time_test():\n",
    "    example_1_action_times = [\n",
    "        pd.Timestamp(year=2023, month=1, day=12, hour=15, minute=17, second=35),\n",
    "        pd.Timestamp(year=2023, month=1, day=12, hour=15, minute=41, second=21),\n",
    "        pd.Timestamp(year=2023, month=1, day=13, hour=15, minute=41, second=21),\n",
    "    ]\n",
    "    \n",
    "    example_1_res = 23.77\n",
    "    \n",
    "    custom_compare(get_avg_session_time(example_1_action_times), example_1_res)\n",
    "    \n",
    "    example_2_action_times = [\n",
    "        pd.Timestamp(year=2023, month=1, day=12, hour=15, minute=17, second=35),\n",
    "        pd.Timestamp(year=2023, month=1, day=13, hour=15, minute=41, second=21),\n",
    "    ]\n",
    "    \n",
    "    example_2_res = 0\n",
    "    \n",
    "    custom_compare(get_avg_session_time(example_2_action_times), example_2_res)\n",
    "    \n",
    "    example_3_action_times = [\n",
    "        pd.Timestamp(year=2023, month=1, day=12, hour=15, minute=17, second=35),\n",
    "        pd.Timestamp(year=2023, month=1, day=12, hour=15, minute=18, second=24),\n",
    "        pd.Timestamp(year=2023, month=2, day=21, hour=9, minute=42, second=31),\n",
    "        pd.Timestamp(year=2023, month=2, day=21, hour=10, minute=21, second=9),\n",
    "        pd.Timestamp(year=2023, month=2, day=21, hour=10, minute=37, second=46),\n",
    "        pd.Timestamp(year=2023, month=2, day=27, hour=17, minute=37, second=46),\n",
    "        pd.Timestamp(year=2023, month=2, day=27, hour=18, minute=12, second=46),\n",
    "        pd.Timestamp(year=2023, month=2, day=27, hour=18, minute=44, second=53),\n",
    "        pd.Timestamp(year=2023, month=2, day=27, hour=19, minute=2, second=11),\n",
    "        pd.Timestamp(year=2023, month=8, day=21, hour=10, minute=37, second=46),\n",
    "    ]\n",
    "    \n",
    "    example_3_res = 46.83\n",
    "    \n",
    "    custom_compare(get_avg_session_time(example_3_action_times), example_3_res)\n",
    "    \n",
    "    print('Все тесты прошли успешно!')"
   ]
  },
  {
   "cell_type": "code",
   "execution_count": 129,
   "id": "2c111d1c",
   "metadata": {},
   "outputs": [
    {
     "name": "stdout",
     "output_type": "stream",
     "text": [
      "Все тесты прошли успешно!\n"
     ]
    }
   ],
   "source": [
    "get_avg_session_time_test()"
   ]
  },
  {
   "cell_type": "markdown",
   "id": "cd29f5e9",
   "metadata": {},
   "source": [
    "## Задание 2"
   ]
  },
  {
   "cell_type": "markdown",
   "id": "504c7061",
   "metadata": {},
   "source": [
    "Используя функцию `get_avg_session_time`, вычислите среднюю продолжительность пользовательской сессии для пользователей из таблицы `user_session`, с которой вы работали в рамках предыдущих упражнений. Для этого усредните значения средней продолжительности пользовательских сессий по всем пользователям.\n",
    "\n",
    "**Обратите внимание**, что среднее можно вычислять как по всем пользователям вообще, так и по тем, у кого среднее время пользовательской сессии больше $0$. В рамках задания вычислите значение по всему множеству пользователей.\n",
    "\n",
    "Аналогично лекции нужно считать, что пользователя уникальным образом идентифицирует IP-адрес, с которого он совершал действия.\n",
    "\n",
    "Ответ округлите до $2$-х знаков после запятой."
   ]
  },
  {
   "cell_type": "code",
   "execution_count": 145,
   "id": "8217047c-74fe-4e1f-b307-eaa284008b93",
   "metadata": {},
   "outputs": [
    {
     "data": {
      "text/plain": [
       "3.38"
      ]
     },
     "execution_count": 145,
     "metadata": {},
     "output_type": "execute_result"
    }
   ],
   "source": [
    "avg_sessions = []\n",
    "for ip, group in user_session.sort_values('action_time', ascending=True).groupby('ip'):\n",
    "    avg_sessions.append(get_avg_session_time(group['action_time']))\n",
    "round_to_2(sum(avg_sessions) / len(avg_sessions))"
   ]
  },
  {
   "cell_type": "markdown",
   "id": "a8dcfea6",
   "metadata": {},
   "source": [
    "## Задание 3"
   ]
  },
  {
   "cell_type": "markdown",
   "id": "3515e3c1",
   "metadata": {},
   "source": [
    "### Вопрос 1"
   ]
  },
  {
   "cell_type": "markdown",
   "id": "888492ef",
   "metadata": {},
   "source": [
    "У какой доли пользователей среднее значение пользовательской сессии равно $0$?\n",
    "\n",
    "Ответ округлите до $2$-х знаков после запятой."
   ]
  },
  {
   "cell_type": "code",
   "execution_count": 146,
   "id": "38141619-d2e5-4336-86a6-11d8f3b07c26",
   "metadata": {},
   "outputs": [
    {
     "data": {
      "text/plain": [
       "0.4"
      ]
     },
     "execution_count": 146,
     "metadata": {},
     "output_type": "execute_result"
    }
   ],
   "source": [
    "zero_lenght_sessions = 0\n",
    "for session in avg_sessions:\n",
    "    if session == 0:\n",
    "        zero_lenght_sessions += 1\n",
    "round_to_2(zero_lenght_sessions / len(avg_sessions))"
   ]
  },
  {
   "cell_type": "markdown",
   "id": "55572d1c",
   "metadata": {},
   "source": [
    "### Вопрос 2"
   ]
  },
  {
   "cell_type": "markdown",
   "id": "7713a591",
   "metadata": {},
   "source": [
    "Рассчитайте средннюю продолжительность пользовательской сессии только по пользователям, у которых средняя продолжительность пользовательской сессии больше $0$.\n",
    "\n",
    "Ответ округлите до $2$-х знаков после запятой."
   ]
  },
  {
   "cell_type": "code",
   "execution_count": 147,
   "id": "cbd089ca",
   "metadata": {},
   "outputs": [
    {
     "data": {
      "text/plain": [
       "5.62"
      ]
     },
     "execution_count": 147,
     "metadata": {},
     "output_type": "execute_result"
    }
   ],
   "source": [
    "full_sessions = []\n",
    "for session in avg_sessions:\n",
    "    if session != 0:\n",
    "        full_sessions.append(session)\n",
    "round_to_2(sum(full_sessions) / len(full_sessions))"
   ]
  },
  {
   "cell_type": "code",
   "execution_count": null,
   "id": "415858a2-4be2-4fc5-b83a-a0ef8f955ef8",
   "metadata": {},
   "outputs": [],
   "source": []
  }
 ],
 "metadata": {
  "kernelspec": {
   "display_name": "Python 3 (ipykernel)",
   "language": "python",
   "name": "python3"
  },
  "language_info": {
   "codemirror_mode": {
    "name": "ipython",
    "version": 3
   },
   "file_extension": ".py",
   "mimetype": "text/x-python",
   "name": "python",
   "nbconvert_exporter": "python",
   "pygments_lexer": "ipython3",
   "version": "3.11.7"
  }
 },
 "nbformat": 4,
 "nbformat_minor": 5
}
