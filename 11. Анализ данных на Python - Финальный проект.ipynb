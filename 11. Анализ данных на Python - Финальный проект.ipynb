{
 "cells": [
  {
   "cell_type": "code",
   "execution_count": 103,
   "id": "502f1a65-1b02-4ceb-a37f-76e060a01ab5",
   "metadata": {},
   "outputs": [],
   "source": [
    "import numpy as np\n",
    "import pandas as pd\n",
    "import seaborn as sns\n",
    "\n",
    "sns.set(rc={'figure.figsize':(8, 6)})"
   ]
  },
  {
   "cell_type": "code",
   "execution_count": 104,
   "id": "64661077-4a55-43d0-8462-4522e8cdb4e6",
   "metadata": {},
   "outputs": [],
   "source": [
    "def analize_dataframe(df: pd.DataFrame):\n",
    "    print(df.head(3), '\\n')\n",
    "    print(df.info(), '\\n')\n",
    "    print(f'Пропуски:\\n{df.isna().sum()}\\n')\n",
    "    print(df.describe())\n",
    "\n",
    "    num_cols = []\n",
    "    cat_cols = []\n",
    "    bool_cols = []\n",
    "    date_cols = []\n",
    "    for col in df.columns:\n",
    "        if df[col].dtype == 'object':\n",
    "            cat_cols.append(col)\n",
    "            print(f'\\nКатегориальный столбец: {df[col].name}')\n",
    "            print(df[col].value_counts())\n",
    "        elif df[col].dtype in ['int64', 'float64']:\n",
    "            num_cols.append(col)\n",
    "        elif df[col].dtype == 'bool':\n",
    "            bool_cols.append(col)\n",
    "        elif df[col].dtype == 'datetime64[ns]':\n",
    "            date_cols.append(col)            \n",
    "\n",
    "    return (num_cols, cat_cols, bool_cols, date_cols)"
   ]
  },
  {
   "cell_type": "code",
   "execution_count": 105,
   "id": "538cabea-9930-4032-8a67-c5e462373ecb",
   "metadata": {},
   "outputs": [],
   "source": [
    "user = pd.read_csv('datasets/sirius/food_shop/user.csv')\n",
    "userab = pd.read_csv('datasets/sirius/food_shop/user_ab_group.csv')\n",
    "user_purch = pd.read_csv('datasets/sirius/food_shop/user_purchase.csv')\n",
    "user_purch['date_time'] = pd.to_datetime(user_purch['date_time'], format='%Y-%m-%d %H:%M:%S')\n",
    "good = pd.read_csv('datasets/sirius/food_shop/good.csv')\n",
    "good_purch = pd.read_csv('datasets/sirius/food_shop/purchase_good.csv')"
   ]
  },
  {
   "cell_type": "code",
   "execution_count": 106,
   "id": "244a78c3-4e12-4927-809e-e8a56fc10460",
   "metadata": {},
   "outputs": [
    {
     "data": {
      "text/plain": [
       "(5990, 5925, 15000)"
      ]
     },
     "execution_count": 106,
     "metadata": {},
     "output_type": "execute_result"
    }
   ],
   "source": [
    "user_treatment = userab[userab.group == 'treatment']['user_id']\n",
    "user_control = userab[userab.group == 'control']['user_id']\n",
    "len(user_treatment), len(user_control), len(user)"
   ]
  },
  {
   "cell_type": "markdown",
   "id": "d7051660-c00f-497d-bba2-bc17e862ec60",
   "metadata": {},
   "source": [
    "Данные в предоставленных таблицах не требуют дополнительной очистки. \n",
    "\n",
    "Пользователи, участвствующие в тестировании, разбиты на две примерно равные группы:\n",
    "- в тестовой группе: **5990** человек,\n",
    "- в контрольной группе: **5925** человек.\n",
    "\n",
    "Итого приняли участие в эксперименте **11915** пользователей из **15000**."
   ]
  },
  {
   "cell_type": "code",
   "execution_count": 107,
   "id": "b0045d6c-1afb-4d84-b219-ac8f2c6511bc",
   "metadata": {},
   "outputs": [],
   "source": [
    "user_purch = user_purch[(user_purch.date_time.dt.month == 10) & (user_purch.date_time.dt.day <= 14)]"
   ]
  },
  {
   "cell_type": "code",
   "execution_count": 108,
   "id": "b8500d0d-8ea3-4967-9dab-ee0a6b1b4681",
   "metadata": {},
   "outputs": [
    {
     "name": "stdout",
     "output_type": "stream",
     "text": [
      "min    2023-10-01 00:02:46\n",
      "max    2023-10-14 23:55:09\n",
      "Name: date_time, dtype: object\n",
      "min    2023-10-01 00:02:30\n",
      "max    2023-10-14 23:58:28\n",
      "Name: date_time, dtype: object\n"
     ]
    }
   ],
   "source": [
    "print(user_purch[user_purch['user_id'].isin(user_control)]['date_time'].describe()[['min', 'max']])\n",
    "print(user_purch[user_purch['user_id'].isin(user_treatment)]['date_time'].describe()[['min', 'max']])"
   ]
  },
  {
   "cell_type": "code",
   "execution_count": 109,
   "id": "119ba844-3d24-4326-ae97-15a99b50b62d",
   "metadata": {},
   "outputs": [
    {
     "name": "stdout",
     "output_type": "stream",
     "text": [
      "5879\n",
      "5944\n"
     ]
    }
   ],
   "source": [
    "print(user_purch[user_purch['user_id'].isin(user_treatment)].count()['id'])\n",
    "print(user_purch[user_purch['user_id'].isin(user_control)].count()['id'])"
   ]
  },
  {
   "cell_type": "markdown",
   "id": "c41124c5-12de-4659-9d7a-1c88fe222abb",
   "metadata": {},
   "source": [
    "Время проведения эксперимента: **с 1 по 14 октября 2023 года** включительно.\n",
    "\n",
    "За время проведения эксперимента получены данные о покупках **5879** тестируемой и **5944** контрольной групп."
   ]
  },
  {
   "cell_type": "code",
   "execution_count": 133,
   "id": "efcfa330-9011-402b-b35f-2a6991022d05",
   "metadata": {},
   "outputs": [
    {
     "data": {
      "text/html": [
       "<div>\n",
       "<style scoped>\n",
       "    .dataframe tbody tr th:only-of-type {\n",
       "        vertical-align: middle;\n",
       "    }\n",
       "\n",
       "    .dataframe tbody tr th {\n",
       "        vertical-align: top;\n",
       "    }\n",
       "\n",
       "    .dataframe thead th {\n",
       "        text-align: right;\n",
       "    }\n",
       "</style>\n",
       "<table border=\"1\" class=\"dataframe\">\n",
       "  <thead>\n",
       "    <tr style=\"text-align: right;\">\n",
       "      <th></th>\n",
       "      <th>purchase_id</th>\n",
       "      <th>user_id</th>\n",
       "      <th>date_time</th>\n",
       "      <th>recommended</th>\n",
       "      <th>good</th>\n",
       "      <th>good_id</th>\n",
       "      <th>price</th>\n",
       "      <th>amount</th>\n",
       "      <th>ad_price</th>\n",
       "      <th>total_price</th>\n",
       "    </tr>\n",
       "  </thead>\n",
       "  <tbody>\n",
       "    <tr>\n",
       "      <th>27764</th>\n",
       "      <td>15945</td>\n",
       "      <td>7</td>\n",
       "      <td>2023-10-04 21:01:03</td>\n",
       "      <td>True</td>\n",
       "      <td>Семена чиа в желе</td>\n",
       "      <td>35</td>\n",
       "      <td>618</td>\n",
       "      <td>1</td>\n",
       "      <td>618</td>\n",
       "      <td>618</td>\n",
       "    </tr>\n",
       "    <tr>\n",
       "      <th>27765</th>\n",
       "      <td>15945</td>\n",
       "      <td>7</td>\n",
       "      <td>2023-10-04 21:01:03</td>\n",
       "      <td>True</td>\n",
       "      <td>Мука тигровых орехов</td>\n",
       "      <td>76</td>\n",
       "      <td>452</td>\n",
       "      <td>1</td>\n",
       "      <td>452</td>\n",
       "      <td>452</td>\n",
       "    </tr>\n",
       "    <tr>\n",
       "      <th>27766</th>\n",
       "      <td>15945</td>\n",
       "      <td>7</td>\n",
       "      <td>2023-10-04 21:01:03</td>\n",
       "      <td>True</td>\n",
       "      <td>Кунжутное масло</td>\n",
       "      <td>40</td>\n",
       "      <td>457</td>\n",
       "      <td>1</td>\n",
       "      <td>457</td>\n",
       "      <td>457</td>\n",
       "    </tr>\n",
       "    <tr>\n",
       "      <th>27767</th>\n",
       "      <td>15945</td>\n",
       "      <td>7</td>\n",
       "      <td>2023-10-04 21:01:03</td>\n",
       "      <td>False</td>\n",
       "      <td>Морская капуста сушёная</td>\n",
       "      <td>30</td>\n",
       "      <td>442</td>\n",
       "      <td>1</td>\n",
       "      <td>0</td>\n",
       "      <td>442</td>\n",
       "    </tr>\n",
       "  </tbody>\n",
       "</table>\n",
       "</div>"
      ],
      "text/plain": [
       "       purchase_id  user_id           date_time  recommended  \\\n",
       "27764        15945        7 2023-10-04 21:01:03         True   \n",
       "27765        15945        7 2023-10-04 21:01:03         True   \n",
       "27766        15945        7 2023-10-04 21:01:03         True   \n",
       "27767        15945        7 2023-10-04 21:01:03        False   \n",
       "\n",
       "                          good  good_id  price  amount  ad_price  total_price  \n",
       "27764        Семена чиа в желе       35    618       1       618          618  \n",
       "27765     Мука тигровых орехов       76    452       1       452          452  \n",
       "27766          Кунжутное масло       40    457       1       457          457  \n",
       "27767  Морская капуста сушёная       30    442       1         0          442  "
      ]
     },
     "execution_count": 133,
     "metadata": {},
     "output_type": "execute_result"
    }
   ],
   "source": [
    "purchases = good_purch \\\n",
    "    .merge(good, left_on='good_id', right_on='id') \\\n",
    "    .drop(columns='id') \\\n",
    "    .merge(user_purch, left_on='purchase_id', right_on='id') \\\n",
    "    .rename(columns={'was_in_recommended_goods': 'recommended', 'good_name': 'good', 'price_per_unit': 'price'}) \\\n",
    "    .assign(ad_price = lambda p: p['amount'] * p['price'] * p['recommended']) \\\n",
    "    .assign(total_price = lambda p: p['amount'] * p['price']) \\\n",
    "    .reindex(columns=['purchase_id', 'user_id', 'date_time', 'recommended', 'good', 'good_id', 'price', 'amount', 'ad_price', 'total_price']) \\\n",
    "    .sort_values('purchase_id')\n",
    "# ad_price - купленые товары, предложенные рекомендательной системой\n",
    "# total_price - все купленные товары\n",
    "\n",
    "purchases[purchases.purchase_id == 1] # детализированный чек покупки #1\n",
    "purchases[purchases.user_id == 7] # покупки пользователя #1"
   ]
  },
  {
   "cell_type": "markdown",
   "id": "24a600e1-9b40-4616-a95c-4bcb51a207e0",
   "metadata": {},
   "source": [
    "Создадим сводную таблицу покупок *purchases*, содержащую в себе все неоходимые данные для наших расчётов."
   ]
  },
  {
   "cell_type": "code",
   "execution_count": 143,
   "id": "57743439-406b-4be5-bba6-db44b3c28119",
   "metadata": {},
   "outputs": [
    {
     "name": "stdout",
     "output_type": "stream",
     "text": [
      "Итого совершено покупок: 14890\n",
      "\n"
     ]
    },
    {
     "data": {
      "text/html": [
       "<div>\n",
       "<style scoped>\n",
       "    .dataframe tbody tr th:only-of-type {\n",
       "        vertical-align: middle;\n",
       "    }\n",
       "\n",
       "    .dataframe tbody tr th {\n",
       "        vertical-align: top;\n",
       "    }\n",
       "\n",
       "    .dataframe thead th {\n",
       "        text-align: right;\n",
       "    }\n",
       "</style>\n",
       "<table border=\"1\" class=\"dataframe\">\n",
       "  <thead>\n",
       "    <tr style=\"text-align: right;\">\n",
       "      <th></th>\n",
       "      <th>purchase_id</th>\n",
       "      <th>user_id</th>\n",
       "      <th>ad_price</th>\n",
       "      <th>total_price</th>\n",
       "      <th>ad_frac</th>\n",
       "    </tr>\n",
       "  </thead>\n",
       "  <tbody>\n",
       "    <tr>\n",
       "      <th>2446</th>\n",
       "      <td>14278</td>\n",
       "      <td>55</td>\n",
       "      <td>0</td>\n",
       "      <td>442</td>\n",
       "      <td>0.00</td>\n",
       "    </tr>\n",
       "    <tr>\n",
       "      <th>10736</th>\n",
       "      <td>22568</td>\n",
       "      <td>55</td>\n",
       "      <td>450</td>\n",
       "      <td>3021</td>\n",
       "      <td>0.15</td>\n",
       "    </tr>\n",
       "  </tbody>\n",
       "</table>\n",
       "</div>"
      ],
      "text/plain": [
       "       purchase_id  user_id  ad_price  total_price  ad_frac\n",
       "2446         14278       55         0          442     0.00\n",
       "10736        22568       55       450         3021     0.15"
      ]
     },
     "execution_count": 143,
     "metadata": {},
     "output_type": "execute_result"
    }
   ],
   "source": [
    "purchases_sum = purchases \\\n",
    "    .groupby(by=['purchase_id', 'user_id'], as_index=False) \\\n",
    "    .agg({'ad_price': 'sum', 'total_price': 'sum'}) \\\n",
    "    .assign(ad_frac = lambda p: round(p['ad_price'] / p['total_price'], 2))\n",
    "\n",
    "print(f'Итого совершено покупок: {len(purchases_sum)}\\n')\n",
    "# print(purchases_sum.loc[0]) # покупка loc+1\n",
    "purchases_sum[purchases_sum.user_id == 55] # покупки пользователя #"
   ]
  },
  {
   "cell_type": "markdown",
   "id": "8ccafd13-29be-4a69-94f9-dd668de050a7",
   "metadata": {},
   "source": [
    "Создадим таблицу *purchases_sum*, содержащую:\n",
    "- стоимость товаров, купленных по рекомендации\n",
    "- общую сумма чека\n",
    "- долю рекомендательной суммы от полной суммы чека\n",
    "\n",
    "Всего у нас имеются данные о **14890** покупке за время действия тестирования. "
   ]
  },
  {
   "cell_type": "code",
   "execution_count": 112,
   "id": "ae59a334-a473-4d9a-a980-438b9b4d3601",
   "metadata": {},
   "outputs": [
    {
     "name": "stdout",
     "output_type": "stream",
     "text": [
      "Итого пользователей, совершавших покупки: 10788\n",
      "\n"
     ]
    },
    {
     "data": {
      "text/html": [
       "<div>\n",
       "<style scoped>\n",
       "    .dataframe tbody tr th:only-of-type {\n",
       "        vertical-align: middle;\n",
       "    }\n",
       "\n",
       "    .dataframe tbody tr th {\n",
       "        vertical-align: top;\n",
       "    }\n",
       "\n",
       "    .dataframe thead th {\n",
       "        text-align: right;\n",
       "    }\n",
       "</style>\n",
       "<table border=\"1\" class=\"dataframe\">\n",
       "  <thead>\n",
       "    <tr style=\"text-align: right;\">\n",
       "      <th></th>\n",
       "      <th>user_id</th>\n",
       "      <th>n_buys</th>\n",
       "      <th>ad_price</th>\n",
       "      <th>total_price</th>\n",
       "      <th>ad_frac</th>\n",
       "    </tr>\n",
       "  </thead>\n",
       "  <tbody>\n",
       "    <tr>\n",
       "      <th>0</th>\n",
       "      <td>1</td>\n",
       "      <td>1</td>\n",
       "      <td>0</td>\n",
       "      <td>928</td>\n",
       "      <td>0.0</td>\n",
       "    </tr>\n",
       "  </tbody>\n",
       "</table>\n",
       "</div>"
      ],
      "text/plain": [
       "   user_id  n_buys  ad_price  total_price  ad_frac\n",
       "0        1       1         0          928      0.0"
      ]
     },
     "execution_count": 112,
     "metadata": {},
     "output_type": "execute_result"
    }
   ],
   "source": [
    "user_purchases_sum = purchases_sum \\\n",
    "    .groupby(by=['user_id'], as_index=False) \\\n",
    "    .agg({'purchase_id': 'count', 'ad_price': 'sum', 'total_price': 'sum',  }) \\\n",
    "    .rename(columns={'purchase_id': 'n_buys'}) \\\n",
    "    .assign(ad_frac = lambda p: round(p['ad_price'] / p['total_price'], 2))\n",
    "\n",
    "print(f'Итого пользователей, совершавших покупки: {len(user_purchases_sum)}\\n')\n",
    "user_purchases_sum[user_purchases_sum['user_id'] == 1]"
   ]
  },
  {
   "cell_type": "markdown",
   "id": "eab5cae2-b494-461f-8b8f-f6b8ff044d6e",
   "metadata": {},
   "source": [
    "Создадим таблицу *user_purchases_sum*, содержащую аггрегированную информацию о всех покупках пользователя:\n",
    "\n",
    "- стоимость товаров, купленных по рекомендации (для всех покупок пользователя)\n",
    "- общую сумма чека (для всех покупок пользователя)\n",
    "- долю рекомендательной суммы от полной суммы чека\n",
    "\n",
    "Всего у нас имеются данные о **10788** из известных **15000** пользователей."
   ]
  },
  {
   "cell_type": "code",
   "execution_count": 113,
   "id": "7f76055f-d292-420c-91c2-28d5a82cefda",
   "metadata": {},
   "outputs": [
    {
     "name": "stdout",
     "output_type": "stream",
     "text": [
      "4309 4269\n"
     ]
    },
    {
     "data": {
      "text/plain": [
       "<Axes: >"
      ]
     },
     "execution_count": 113,
     "metadata": {},
     "output_type": "execute_result"
    },
    {
     "data": {
      "image/png": "[encoded data removed]",
      "text/plain": [
       "<Figure size 800x600 with 1 Axes>"
      ]
     },
     "metadata": {},
     "output_type": "display_data"
    }
   ],
   "source": [
    "print(len(user_purchases_sum[user_purchases_sum.user_id.isin(user_treatment)]), \\\n",
    "len(user_purchases_sum[user_purchases_sum.user_id.isin(user_control)])) \n",
    "\n",
    "treatment_purchases = user_purchases_sum[user_purchases_sum.user_id.isin(user_treatment)].sum()\n",
    "control_purchases = user_purchases_sum[user_purchases_sum.user_id.isin(user_control)].sum()\n",
    "\n",
    "total_spends = pd.DataFrame(data=[\n",
    "    [int(treatment_purchases.n_buys), int(control_purchases.n_buys)], \n",
    "    [int(treatment_purchases.ad_price), int(control_purchases.ad_price)],\n",
    "    [int(treatment_purchases.total_price), int(control_purchases.total_price)], \n",
    "], index=['n_buys', 'ads', 'total'], columns=['treatment', 'control']).T\n",
    "total_spends = total_spends \\\n",
    "    .assign(no_ads = lambda p: p['total'] - p['ads']) \\\n",
    "    .assign(ads_frac = lambda p: round(p['ads'] / p['total'], 3)) \\\n",
    "    .reindex(columns=['n_buys', 'ads', 'no_ads', 'total', 'ads_frac']) \n",
    "\n",
    "total_spends \\\n",
    "    .drop(columns=['n_buys', 'total', 'ads_frac']) \\\n",
    "    .plot(kind='bar', stacked=True, color=['steelblue', 'skyblue'])"
   ]
  },
  {
   "cell_type": "code",
   "execution_count": 127,
   "id": "5289f8d3-9db5-42b4-b162-cf10bb4f3e25",
   "metadata": {},
   "outputs": [
    {
     "data": {
      "text/html": [
       "<div>\n",
       "<style scoped>\n",
       "    .dataframe tbody tr th:only-of-type {\n",
       "        vertical-align: middle;\n",
       "    }\n",
       "\n",
       "    .dataframe tbody tr th {\n",
       "        vertical-align: top;\n",
       "    }\n",
       "\n",
       "    .dataframe thead th {\n",
       "        text-align: right;\n",
       "    }\n",
       "</style>\n",
       "<table border=\"1\" class=\"dataframe\">\n",
       "  <thead>\n",
       "    <tr style=\"text-align: right;\">\n",
       "      <th></th>\n",
       "      <th>n_buys</th>\n",
       "      <th>ads</th>\n",
       "      <th>no_ads</th>\n",
       "      <th>total</th>\n",
       "      <th>ads_frac</th>\n",
       "      <th>mean_check</th>\n",
       "      <th>users</th>\n",
       "      <th>revenue_by_user</th>\n",
       "    </tr>\n",
       "  </thead>\n",
       "  <tbody>\n",
       "    <tr>\n",
       "      <th>treatment</th>\n",
       "      <td>5879</td>\n",
       "      <td>11855115</td>\n",
       "      <td>14663220</td>\n",
       "      <td>26518335</td>\n",
       "      <td>0.447</td>\n",
       "      <td>4510.69</td>\n",
       "      <td>4309</td>\n",
       "      <td>6154.17</td>\n",
       "    </tr>\n",
       "    <tr>\n",
       "      <th>control</th>\n",
       "      <td>5944</td>\n",
       "      <td>4738958</td>\n",
       "      <td>10921525</td>\n",
       "      <td>15660483</td>\n",
       "      <td>0.303</td>\n",
       "      <td>2634.67</td>\n",
       "      <td>4269</td>\n",
       "      <td>3668.42</td>\n",
       "    </tr>\n",
       "  </tbody>\n",
       "</table>\n",
       "</div>"
      ],
      "text/plain": [
       "           n_buys       ads    no_ads     total  ads_frac  mean_check  users  \\\n",
       "treatment    5879  11855115  14663220  26518335     0.447     4510.69   4309   \n",
       "control      5944   4738958  10921525  15660483     0.303     2634.67   4269   \n",
       "\n",
       "           revenue_by_user  \n",
       "treatment          6154.17  \n",
       "control            3668.42  "
      ]
     },
     "execution_count": 127,
     "metadata": {},
     "output_type": "execute_result"
    }
   ],
   "source": [
    "summary = total_spends \\\n",
    "    .assign(mean_check = lambda p: round(p['total'] / p['n_buys'], 2)) \\\n",
    "    .assign(users = [\n",
    "        len(user_purchases_sum[user_purchases_sum.user_id.isin(user_treatment)]),\n",
    "        len(user_purchases_sum[user_purchases_sum.user_id.isin(user_control)])]) \\\n",
    "    .assign(revenue_by_user = lambda p: round(p['total'] / p['users'], 2))\n",
    "\n",
    "summary"
   ]
  },
  {
   "cell_type": "markdown",
   "id": "850aa5e9-2f90-4e99-b7c2-cd003c93e49b",
   "metadata": {},
   "source": [
    "Из **5990** человек тестовой группы совершили покупк в тестовый период: **4309** человек.\n",
    "\n",
    "Всего тестовой группой совершено **5879** покупок, на сумму **26 518 335**руб., из которых **11 855 115**руб. на товары предложенные рекомендательной системой (что составляет долю **0.447**). На товары, которые не были рекомендованы системой, было потрачено **14 663 220**руб.\n",
    "\n",
    "\n",
    "Из **5925** человек контрольной группы совершили покупки в тестовый период: **4269** человек.\n",
    "\n",
    "Всего контрольной группой совершено **5944** покупок, на сумму **15 660 483**руб., из которых **4 738 958**руб. на товары предложенные рекомендательной системой (что составляет долю **0.303**). На товары, которые не были рекомендованы системой, было потрачено **10 921 525**руб."
   ]
  },
  {
   "cell_type": "markdown",
   "id": "f555cf09-776c-4ee2-897a-2d6e5931028c",
   "metadata": {},
   "source": [
    "Тестовая группа проказала итоговое увеличение выручки за тестовый период на **10 857 852**руб., из которых **7 116 157**руб. за счёт продажи рекомендованных товаров.\n",
    "\n",
    "Средний чек в тестовой группе составил: **4510**руб. (**+71%**)\n",
    "\n",
    "Средний чек в контройльной группе составил: **2634**руб."
   ]
  },
  {
   "cell_type": "markdown",
   "id": "7325ce7e-4a3e-4c86-bfdf-acc6de150b2f",
   "metadata": {},
   "source": [
    "> придумать метрику для сравнения двух групп, которая будет являться средним в некоторой выборке значений\n",
    "\n",
    "Нашей метрикой будет средняя выручка на пользователя.\n",
    "\n",
    "В тестовой группе средняя выручка на пользователя: **6154**руб. (**+68%**)\n",
    "\n",
    "В контрольной группе средняя выручка на пользователя: **3668**руб."
   ]
  },
  {
   "cell_type": "code",
   "execution_count": 156,
   "id": "a2e46d52-e5d2-461b-b702-d8573520cfab",
   "metadata": {},
   "outputs": [
    {
     "data": {
      "text/plain": [
       "TtestResult(statistic=24.233967540582896, pvalue=3.363478798853414e-126, df=10232.906892414547)"
      ]
     },
     "execution_count": 156,
     "metadata": {},
     "output_type": "execute_result"
    }
   ],
   "source": [
    "from scipy.stats import ttest_ind\n",
    "\n",
    "# создаём списки трат пользователей за тестовый период, по группам\n",
    "treatment_revenue = list(user_purchases_sum[user_purchases_sum.user_id.isin(user_treatment)].total_price)\n",
    "control_revenue = list(user_purchases_sum[user_purchases_sum.user_id.isin(user_control)].total_price)\n",
    "\n",
    "# дополняем списки трат нулевыми значениями, отражающими пользователей из групп, не сделавних ни одной покупки\n",
    "treatment_revenue_z = treatment_revenue + [0] * (len(user_treatment) - len(treatmen_revenue))\n",
    "control_revenue_z = control_revenue + [0] * (len(user_control) - len(control_revenue))\n",
    "\n",
    "tt_result = ttest_ind(treatment_revenue_z, control_revenue_z, equal_var=False)\n",
    "tt_result"
   ]
  },
  {
   "cell_type": "code",
   "execution_count": 155,
   "id": "cdbf7780-e4bb-415b-970e-9ac61041173c",
   "metadata": {},
   "outputs": [
    {
     "name": "stderr",
     "output_type": "stream",
     "text": [
      "/home/azor/anaconda3/lib/python3.11/site-packages/seaborn/_oldcore.py:1119: FutureWarning: use_inf_as_na option is deprecated and will be removed in a future version. Convert inf values to NaN before operating instead.\n",
      "  with pd.option_context('mode.use_inf_as_na', True):\n",
      "/home/azor/anaconda3/lib/python3.11/site-packages/seaborn/_oldcore.py:1119: FutureWarning: use_inf_as_na option is deprecated and will be removed in a future version. Convert inf values to NaN before operating instead.\n",
      "  with pd.option_context('mode.use_inf_as_na', True):\n"
     ]
    },
    {
     "data": {
      "text/plain": [
       "<Axes: ylabel='Count'>"
      ]
     },
     "execution_count": 155,
     "metadata": {},
     "output_type": "execute_result"
    },
    {
     "data": {
      "image/png": "[encoded data removed]",
      "text/plain": [
       "<Figure size 800x600 with 1 Axes>"
      ]
     },
     "metadata": {},
     "output_type": "display_data"
    }
   ],
   "source": [
    "sns.histplot(control_revenue, binwidth=500)\n",
    "sns.histplot(treatment_revenue, binwidth=500)"
   ]
  },
  {
   "cell_type": "code",
   "execution_count": 157,
   "id": "25b55548-0767-46a6-80a8-216b94628b29",
   "metadata": {},
   "outputs": [
    {
     "data": {
      "text/plain": [
       "3.363478798853414e-126"
      ]
     },
     "execution_count": 157,
     "metadata": {},
     "output_type": "execute_result"
    }
   ],
   "source": [
    "tt_result[1]"
   ]
  },
  {
   "cell_type": "markdown",
   "id": "72603462-0f3a-4cd0-8fba-73f797ff193e",
   "metadata": {},
   "source": [
    "ТТест подверждает сделанные нами ранее наблюдения о статистически значимых отличиях средней выручки на пользователя."
   ]
  },
  {
   "cell_type": "code",
   "execution_count": 158,
   "id": "35d8b565-87de-4f50-966d-0a1a6626790b",
   "metadata": {},
   "outputs": [
    {
     "data": {
      "text/html": [
       "<div>\n",
       "<style scoped>\n",
       "    .dataframe tbody tr th:only-of-type {\n",
       "        vertical-align: middle;\n",
       "    }\n",
       "\n",
       "    .dataframe tbody tr th {\n",
       "        vertical-align: top;\n",
       "    }\n",
       "\n",
       "    .dataframe thead th {\n",
       "        text-align: right;\n",
       "    }\n",
       "</style>\n",
       "<table border=\"1\" class=\"dataframe\">\n",
       "  <thead>\n",
       "    <tr style=\"text-align: right;\">\n",
       "      <th></th>\n",
       "      <th>user_id</th>\n",
       "      <th>n_buys</th>\n",
       "      <th>ad_price</th>\n",
       "      <th>total_price</th>\n",
       "      <th>ad_frac</th>\n",
       "    </tr>\n",
       "  </thead>\n",
       "  <tbody>\n",
       "    <tr>\n",
       "      <th>0</th>\n",
       "      <td>1</td>\n",
       "      <td>1</td>\n",
       "      <td>0</td>\n",
       "      <td>928</td>\n",
       "      <td>0.00</td>\n",
       "    </tr>\n",
       "    <tr>\n",
       "      <th>1</th>\n",
       "      <td>2</td>\n",
       "      <td>1</td>\n",
       "      <td>4481</td>\n",
       "      <td>7190</td>\n",
       "      <td>0.62</td>\n",
       "    </tr>\n",
       "    <tr>\n",
       "      <th>2</th>\n",
       "      <td>4</td>\n",
       "      <td>1</td>\n",
       "      <td>0</td>\n",
       "      <td>447</td>\n",
       "      <td>0.00</td>\n",
       "    </tr>\n",
       "    <tr>\n",
       "      <th>3</th>\n",
       "      <td>5</td>\n",
       "      <td>1</td>\n",
       "      <td>513</td>\n",
       "      <td>1097</td>\n",
       "      <td>0.47</td>\n",
       "    </tr>\n",
       "    <tr>\n",
       "      <th>4</th>\n",
       "      <td>6</td>\n",
       "      <td>1</td>\n",
       "      <td>665</td>\n",
       "      <td>665</td>\n",
       "      <td>1.00</td>\n",
       "    </tr>\n",
       "    <tr>\n",
       "      <th>...</th>\n",
       "      <td>...</td>\n",
       "      <td>...</td>\n",
       "      <td>...</td>\n",
       "      <td>...</td>\n",
       "      <td>...</td>\n",
       "    </tr>\n",
       "    <tr>\n",
       "      <th>10783</th>\n",
       "      <td>14994</td>\n",
       "      <td>1</td>\n",
       "      <td>964</td>\n",
       "      <td>2586</td>\n",
       "      <td>0.37</td>\n",
       "    </tr>\n",
       "    <tr>\n",
       "      <th>10784</th>\n",
       "      <td>14996</td>\n",
       "      <td>3</td>\n",
       "      <td>3977</td>\n",
       "      <td>6996</td>\n",
       "      <td>0.57</td>\n",
       "    </tr>\n",
       "    <tr>\n",
       "      <th>10785</th>\n",
       "      <td>14997</td>\n",
       "      <td>2</td>\n",
       "      <td>2038</td>\n",
       "      <td>12832</td>\n",
       "      <td>0.16</td>\n",
       "    </tr>\n",
       "    <tr>\n",
       "      <th>10786</th>\n",
       "      <td>14998</td>\n",
       "      <td>1</td>\n",
       "      <td>4536</td>\n",
       "      <td>6498</td>\n",
       "      <td>0.70</td>\n",
       "    </tr>\n",
       "    <tr>\n",
       "      <th>10787</th>\n",
       "      <td>15000</td>\n",
       "      <td>1</td>\n",
       "      <td>2269</td>\n",
       "      <td>4398</td>\n",
       "      <td>0.52</td>\n",
       "    </tr>\n",
       "  </tbody>\n",
       "</table>\n",
       "<p>10788 rows × 5 columns</p>\n",
       "</div>"
      ],
      "text/plain": [
       "       user_id  n_buys  ad_price  total_price  ad_frac\n",
       "0            1       1         0          928     0.00\n",
       "1            2       1      4481         7190     0.62\n",
       "2            4       1         0          447     0.00\n",
       "3            5       1       513         1097     0.47\n",
       "4            6       1       665          665     1.00\n",
       "...        ...     ...       ...          ...      ...\n",
       "10783    14994       1       964         2586     0.37\n",
       "10784    14996       3      3977         6996     0.57\n",
       "10785    14997       2      2038        12832     0.16\n",
       "10786    14998       1      4536         6498     0.70\n",
       "10787    15000       1      2269         4398     0.52\n",
       "\n",
       "[10788 rows x 5 columns]"
      ]
     },
     "execution_count": 158,
     "metadata": {},
     "output_type": "execute_result"
    }
   ],
   "source": [
    "user_purchases_sum"
   ]
  },
  {
   "cell_type": "code",
   "execution_count": 167,
   "id": "e203078e-0932-4be3-8181-cb5827b619d8",
   "metadata": {},
   "outputs": [
    {
     "data": {
      "text/plain": [
       "1.3643536783476444"
      ]
     },
     "execution_count": 167,
     "metadata": {},
     "output_type": "execute_result"
    }
   ],
   "source": [
    "user_purchases_sum[user_purchases_sum.user_id.isin(user_treatment)].mean()['n_buys']"
   ]
  },
  {
   "cell_type": "code",
   "execution_count": 168,
   "id": "7745bb18-7e2f-4ebf-b45b-78e991454cef",
   "metadata": {},
   "outputs": [
    {
     "data": {
      "text/plain": [
       "1.3923635511829469"
      ]
     },
     "execution_count": 168,
     "metadata": {},
     "output_type": "execute_result"
    }
   ],
   "source": [
    "user_purchases_sum[user_purchases_sum.user_id.isin(user_control)].mean()['n_buys']"
   ]
  },
  {
   "cell_type": "code",
   "execution_count": null,
   "id": "8bd14955-13b5-44a6-a64f-d48735e36055",
   "metadata": {},
   "outputs": [],
   "source": []
  }
 ],
 "metadata": {
  "kernelspec": {
   "display_name": "Python 3 (ipykernel)",
   "language": "python",
   "name": "python3"
  },
  "language_info": {
   "codemirror_mode": {
    "name": "ipython",
    "version": 3
   },
   "file_extension": ".py",
   "mimetype": "text/x-python",
   "name": "python",
   "nbconvert_exporter": "python",
   "pygments_lexer": "ipython3",
   "version": "3.11.7"
  }
 },
 "nbformat": 4,
 "nbformat_minor": 5
}
